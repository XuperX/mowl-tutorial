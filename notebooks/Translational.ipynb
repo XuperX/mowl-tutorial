{
 "cells": [
  {
   "cell_type": "markdown",
   "id": "024047c9",
   "metadata": {},
   "source": [
    "# Translational Embeddings"
   ]
  },
  {
   "cell_type": "markdown",
   "id": "ba987241",
   "metadata": {},
   "source": [
    "### Knowledge Graph\n",
    "\n",
    "Let $KG = (V, E, L; \\vdash)$ be a knowledge graph with a set of\n",
    "    vertices $V$, a set of edges $E \\subseteq V \\times V$, a label\n",
    "    function $L: V \\cup E \\mapsto Lab$ that assigns labels from a set\n",
    "    of labels $Lab$ to vertices and edges, and an inference relation\n",
    "    $\\vdash$.\n",
    "    \n",
    "**A knowledge graph embedding is a function** $f_\\eta : L(V) \\cup L(E) \\mapsto \\mathbb{R}^n$. That is, the function takes elements from the set $ L(V) \\cup L(E) \\subseteq Lab$ and gets elements in $\\mathbb{R}^n$, where $n$ is the _embedding size_."
   ]
  },
  {
   "cell_type": "markdown",
   "id": "7761cabb",
   "metadata": {},
   "source": [
    "### TransE idea\n",
    "TransE aims to model multirelational data by representing relationships as **translations** in the following way:\n",
    "\n",
    "Consider an edge is the graph of the form $(h, \\ell, t)$, where $h$ is the head of the edge, $\\ell$ is the type of relation and $t$ is the tail of the edge. Let's denote the corresponding embeddings as $\\boldsymbol{h}$, $\\boldsymbol{\\ell}$ and $\\boldsymbol{t}$. TransE learns the embeddings such that: \n",
    "$$\\boldsymbol{h} + \\boldsymbol{\\ell} \\approx \\boldsymbol{t}$$"
   ]
  },
  {
   "cell_type": "markdown",
   "id": "6d0016a7",
   "metadata": {},
   "source": [
    "### Objective function\n",
    "TransE minimizes the following objective function: $$\n",
    "\\mathcal{L}=\\sum_{(h, \\ell, t) \\in S} \\sum_{\\left(h^{\\prime}, \\ell, t^{\\prime}\\right) \\in S_{(h, \\ell, t)}^{\\prime}}\\left[\\gamma+d(\\boldsymbol{h}+\\boldsymbol{\\ell}, \\boldsymbol{t})-d\\left(\\boldsymbol{h}^{\\prime}+\\boldsymbol{\\ell}, \\boldsymbol{t}^{\\prime}\\right)\\right]_{+}\n",
    "$$\n",
    "\n",
    "Where $d(\\boldsymbol{h}+\\boldsymbol{\\ell}, \\boldsymbol{t})$ is the _dissimilarity_ score of a positive edge. Furthermore, $d\\left(\\boldsymbol{h}^{\\prime}+\\boldsymbol{\\ell}, \\boldsymbol{t}^{\\prime}\\right)$ is the _dissimilarity_ score for a negative triple obtained by corrupting either the head or tail (but not both) of a positive triple. In this way, TransE favors lower scores for positive edges and big scores for negative edges. \n",
    "\n",
    "Regarding the parameter $\\gamma$, it is used to enforce that the score of a positive edge is different (lower) than the score of a negative edge by at least $\\gamma$."
   ]
  },
  {
   "cell_type": "code",
   "execution_count": null,
   "id": "bfe2f3a7",
   "metadata": {},
   "outputs": [],
   "source": []
  },
  {
   "cell_type": "code",
   "execution_count": 35,
   "id": "5697ca57",
   "metadata": {},
   "outputs": [],
   "source": [
    "import sys\n",
    "sys.path.append(\"../../../\")\n",
    "\n",
    "import torch as th\n",
    "#import logging\n",
    "import numpy as np\n",
    "import pickle as pkl\n",
    "from MulticoreTSNE import MulticoreTSNE as TSNE\n",
    "import matplotlib.pyplot as plt\n",
    "\n",
    "from mowl.datasets.ppi_yeast import PPIYeastSlimDataset\n",
    "\n",
    "from mowl.embeddings.graph_based.translational.model import TranslationalOnt"
   ]
  },
  {
   "cell_type": "code",
   "execution_count": 36,
   "id": "9d870785",
   "metadata": {},
   "outputs": [
    {
     "name": "stderr",
     "output_type": "stream",
     "text": [
      "DEBUG:root:BID IS: True\n",
      "DEBUG:root:BID IS: True\n"
     ]
    }
   ],
   "source": [
    "dataset = PPIYeastSlimDataset()\n",
    "    \n",
    "modelE = TranslationalOnt(\n",
    "        dataset, \n",
    "        parsing_method = \"dl2vec\", \n",
    "        trans_method = \"transE\",\n",
    "        embedding_dim = 100,\n",
    "        epochs = 32,\n",
    "        batch_size = 256,\n",
    "        bidirectional_taxonomy = True\n",
    "    )\n",
    "    \n"
   ]
  },
  {
   "cell_type": "code",
   "execution_count": 37,
   "id": "9341c720",
   "metadata": {},
   "outputs": [
    {
     "name": "stdout",
     "output_type": "stream",
     "text": [
      "INFO: Number of ontology classes: 11020\n",
      "INFO: Number of ontology classes: 3610\n"
     ]
    },
    {
     "name": "stderr",
     "output_type": "stream",
     "text": [
      "DEBUG:root:Traininig entities: 11020, relations 10. Testing entities: 3610, relations 1.\n",
      "WARNING:pykeen.models.base:No random seed is specified. This may lead to non-reproducible results.\n"
     ]
    },
    {
     "data": {
      "application/vnd.jupyter.widget-view+json": {
       "model_id": "49a8c934fef343278fb253b8497749c9",
       "version_major": 2,
       "version_minor": 0
      },
      "text/plain": [
       "Training epochs on cuda:   0%|          | 0/32 [00:00<?, ?epoch/s]"
      ]
     },
     "metadata": {},
     "output_type": "display_data"
    },
    {
     "data": {
      "application/vnd.jupyter.widget-view+json": {
       "model_id": "",
       "version_major": 2,
       "version_minor": 0
      },
      "text/plain": [
       "Training batches on cuda:   0%|          | 0/974 [00:00<?, ?batch/s]"
      ]
     },
     "metadata": {},
     "output_type": "display_data"
    },
    {
     "data": {
      "application/vnd.jupyter.widget-view+json": {
       "model_id": "",
       "version_major": 2,
       "version_minor": 0
      },
      "text/plain": [
       "Training batches on cuda:   0%|          | 0/974 [00:00<?, ?batch/s]"
      ]
     },
     "metadata": {},
     "output_type": "display_data"
    },
    {
     "data": {
      "application/vnd.jupyter.widget-view+json": {
       "model_id": "",
       "version_major": 2,
       "version_minor": 0
      },
      "text/plain": [
       "Training batches on cuda:   0%|          | 0/974 [00:00<?, ?batch/s]"
      ]
     },
     "metadata": {},
     "output_type": "display_data"
    },
    {
     "data": {
      "application/vnd.jupyter.widget-view+json": {
       "model_id": "",
       "version_major": 2,
       "version_minor": 0
      },
      "text/plain": [
       "Training batches on cuda:   0%|          | 0/974 [00:00<?, ?batch/s]"
      ]
     },
     "metadata": {},
     "output_type": "display_data"
    },
    {
     "data": {
      "application/vnd.jupyter.widget-view+json": {
       "model_id": "",
       "version_major": 2,
       "version_minor": 0
      },
      "text/plain": [
       "Training batches on cuda:   0%|          | 0/974 [00:00<?, ?batch/s]"
      ]
     },
     "metadata": {},
     "output_type": "display_data"
    },
    {
     "data": {
      "application/vnd.jupyter.widget-view+json": {
       "model_id": "",
       "version_major": 2,
       "version_minor": 0
      },
      "text/plain": [
       "Training batches on cuda:   0%|          | 0/974 [00:00<?, ?batch/s]"
      ]
     },
     "metadata": {},
     "output_type": "display_data"
    },
    {
     "data": {
      "application/vnd.jupyter.widget-view+json": {
       "model_id": "",
       "version_major": 2,
       "version_minor": 0
      },
      "text/plain": [
       "Training batches on cuda:   0%|          | 0/974 [00:00<?, ?batch/s]"
      ]
     },
     "metadata": {},
     "output_type": "display_data"
    },
    {
     "data": {
      "application/vnd.jupyter.widget-view+json": {
       "model_id": "",
       "version_major": 2,
       "version_minor": 0
      },
      "text/plain": [
       "Training batches on cuda:   0%|          | 0/974 [00:00<?, ?batch/s]"
      ]
     },
     "metadata": {},
     "output_type": "display_data"
    },
    {
     "data": {
      "application/vnd.jupyter.widget-view+json": {
       "model_id": "",
       "version_major": 2,
       "version_minor": 0
      },
      "text/plain": [
       "Training batches on cuda:   0%|          | 0/974 [00:00<?, ?batch/s]"
      ]
     },
     "metadata": {},
     "output_type": "display_data"
    },
    {
     "data": {
      "application/vnd.jupyter.widget-view+json": {
       "model_id": "",
       "version_major": 2,
       "version_minor": 0
      },
      "text/plain": [
       "Training batches on cuda:   0%|          | 0/974 [00:00<?, ?batch/s]"
      ]
     },
     "metadata": {},
     "output_type": "display_data"
    },
    {
     "data": {
      "application/vnd.jupyter.widget-view+json": {
       "model_id": "",
       "version_major": 2,
       "version_minor": 0
      },
      "text/plain": [
       "Training batches on cuda:   0%|          | 0/974 [00:00<?, ?batch/s]"
      ]
     },
     "metadata": {},
     "output_type": "display_data"
    },
    {
     "data": {
      "application/vnd.jupyter.widget-view+json": {
       "model_id": "",
       "version_major": 2,
       "version_minor": 0
      },
      "text/plain": [
       "Training batches on cuda:   0%|          | 0/974 [00:00<?, ?batch/s]"
      ]
     },
     "metadata": {},
     "output_type": "display_data"
    },
    {
     "data": {
      "application/vnd.jupyter.widget-view+json": {
       "model_id": "",
       "version_major": 2,
       "version_minor": 0
      },
      "text/plain": [
       "Training batches on cuda:   0%|          | 0/974 [00:00<?, ?batch/s]"
      ]
     },
     "metadata": {},
     "output_type": "display_data"
    },
    {
     "data": {
      "application/vnd.jupyter.widget-view+json": {
       "model_id": "",
       "version_major": 2,
       "version_minor": 0
      },
      "text/plain": [
       "Training batches on cuda:   0%|          | 0/974 [00:00<?, ?batch/s]"
      ]
     },
     "metadata": {},
     "output_type": "display_data"
    },
    {
     "data": {
      "application/vnd.jupyter.widget-view+json": {
       "model_id": "",
       "version_major": 2,
       "version_minor": 0
      },
      "text/plain": [
       "Training batches on cuda:   0%|          | 0/974 [00:00<?, ?batch/s]"
      ]
     },
     "metadata": {},
     "output_type": "display_data"
    },
    {
     "data": {
      "application/vnd.jupyter.widget-view+json": {
       "model_id": "",
       "version_major": 2,
       "version_minor": 0
      },
      "text/plain": [
       "Training batches on cuda:   0%|          | 0/974 [00:00<?, ?batch/s]"
      ]
     },
     "metadata": {},
     "output_type": "display_data"
    },
    {
     "data": {
      "application/vnd.jupyter.widget-view+json": {
       "model_id": "",
       "version_major": 2,
       "version_minor": 0
      },
      "text/plain": [
       "Training batches on cuda:   0%|          | 0/974 [00:00<?, ?batch/s]"
      ]
     },
     "metadata": {},
     "output_type": "display_data"
    },
    {
     "data": {
      "application/vnd.jupyter.widget-view+json": {
       "model_id": "",
       "version_major": 2,
       "version_minor": 0
      },
      "text/plain": [
       "Training batches on cuda:   0%|          | 0/974 [00:00<?, ?batch/s]"
      ]
     },
     "metadata": {},
     "output_type": "display_data"
    },
    {
     "data": {
      "application/vnd.jupyter.widget-view+json": {
       "model_id": "",
       "version_major": 2,
       "version_minor": 0
      },
      "text/plain": [
       "Training batches on cuda:   0%|          | 0/974 [00:00<?, ?batch/s]"
      ]
     },
     "metadata": {},
     "output_type": "display_data"
    },
    {
     "data": {
      "application/vnd.jupyter.widget-view+json": {
       "model_id": "",
       "version_major": 2,
       "version_minor": 0
      },
      "text/plain": [
       "Training batches on cuda:   0%|          | 0/974 [00:00<?, ?batch/s]"
      ]
     },
     "metadata": {},
     "output_type": "display_data"
    },
    {
     "data": {
      "application/vnd.jupyter.widget-view+json": {
       "model_id": "",
       "version_major": 2,
       "version_minor": 0
      },
      "text/plain": [
       "Training batches on cuda:   0%|          | 0/974 [00:00<?, ?batch/s]"
      ]
     },
     "metadata": {},
     "output_type": "display_data"
    },
    {
     "data": {
      "application/vnd.jupyter.widget-view+json": {
       "model_id": "",
       "version_major": 2,
       "version_minor": 0
      },
      "text/plain": [
       "Training batches on cuda:   0%|          | 0/974 [00:00<?, ?batch/s]"
      ]
     },
     "metadata": {},
     "output_type": "display_data"
    },
    {
     "data": {
      "application/vnd.jupyter.widget-view+json": {
       "model_id": "",
       "version_major": 2,
       "version_minor": 0
      },
      "text/plain": [
       "Training batches on cuda:   0%|          | 0/974 [00:00<?, ?batch/s]"
      ]
     },
     "metadata": {},
     "output_type": "display_data"
    },
    {
     "data": {
      "application/vnd.jupyter.widget-view+json": {
       "model_id": "",
       "version_major": 2,
       "version_minor": 0
      },
      "text/plain": [
       "Training batches on cuda:   0%|          | 0/974 [00:00<?, ?batch/s]"
      ]
     },
     "metadata": {},
     "output_type": "display_data"
    },
    {
     "data": {
      "application/vnd.jupyter.widget-view+json": {
       "model_id": "",
       "version_major": 2,
       "version_minor": 0
      },
      "text/plain": [
       "Training batches on cuda:   0%|          | 0/974 [00:00<?, ?batch/s]"
      ]
     },
     "metadata": {},
     "output_type": "display_data"
    },
    {
     "data": {
      "application/vnd.jupyter.widget-view+json": {
       "model_id": "",
       "version_major": 2,
       "version_minor": 0
      },
      "text/plain": [
       "Training batches on cuda:   0%|          | 0/974 [00:00<?, ?batch/s]"
      ]
     },
     "metadata": {},
     "output_type": "display_data"
    },
    {
     "data": {
      "application/vnd.jupyter.widget-view+json": {
       "model_id": "",
       "version_major": 2,
       "version_minor": 0
      },
      "text/plain": [
       "Training batches on cuda:   0%|          | 0/974 [00:00<?, ?batch/s]"
      ]
     },
     "metadata": {},
     "output_type": "display_data"
    },
    {
     "data": {
      "application/vnd.jupyter.widget-view+json": {
       "model_id": "",
       "version_major": 2,
       "version_minor": 0
      },
      "text/plain": [
       "Training batches on cuda:   0%|          | 0/974 [00:00<?, ?batch/s]"
      ]
     },
     "metadata": {},
     "output_type": "display_data"
    },
    {
     "data": {
      "application/vnd.jupyter.widget-view+json": {
       "model_id": "",
       "version_major": 2,
       "version_minor": 0
      },
      "text/plain": [
       "Training batches on cuda:   0%|          | 0/974 [00:00<?, ?batch/s]"
      ]
     },
     "metadata": {},
     "output_type": "display_data"
    },
    {
     "data": {
      "application/vnd.jupyter.widget-view+json": {
       "model_id": "",
       "version_major": 2,
       "version_minor": 0
      },
      "text/plain": [
       "Training batches on cuda:   0%|          | 0/974 [00:00<?, ?batch/s]"
      ]
     },
     "metadata": {},
     "output_type": "display_data"
    },
    {
     "data": {
      "application/vnd.jupyter.widget-view+json": {
       "model_id": "",
       "version_major": 2,
       "version_minor": 0
      },
      "text/plain": [
       "Training batches on cuda:   0%|          | 0/974 [00:00<?, ?batch/s]"
      ]
     },
     "metadata": {},
     "output_type": "display_data"
    },
    {
     "data": {
      "application/vnd.jupyter.widget-view+json": {
       "model_id": "",
       "version_major": 2,
       "version_minor": 0
      },
      "text/plain": [
       "Training batches on cuda:   0%|          | 0/974 [00:00<?, ?batch/s]"
      ]
     },
     "metadata": {},
     "output_type": "display_data"
    }
   ],
   "source": [
    "modelE.train()"
   ]
  },
  {
   "cell_type": "code",
   "execution_count": 38,
   "id": "939af280",
   "metadata": {},
   "outputs": [],
   "source": [
    "transE_embeddings = modelE.model.entity_representations[0](indices=None).cpu().detach().numpy()\n",
    "protE_embeddings = {}\n",
    "\n",
    "for node, idx in modelE.entities_idx.items():\n",
    "    if node.startswith(\"4932\"):\n",
    "        protE_embeddings[node] = transE_embeddings[idx]\n",
    "        \n",
    "with open(\"data/protE_emb\", \"wb\") as file:\n",
    "    pkl.dump(protE_embeddings, file)"
   ]
  },
  {
   "cell_type": "code",
   "execution_count": 39,
   "id": "2174bc27",
   "metadata": {},
   "outputs": [],
   "source": [
    "with open(\"data/protE_emb\", \"rb\") as file:\n",
    "    protE_embeddings = pkl.load(file)\n",
    "\n",
    "ec_numbers = {}\n",
    "with open('data/yeast_ec.tab') as f:\n",
    "    next(f)\n",
    "    for line in f:\n",
    "        it = line.strip().split('\\t', -1)\n",
    "        if len(it) < 5:\n",
    "            continue\n",
    "        if it[3]:\n",
    "            prot_id = it[3].split(';')[0]\n",
    "            prot_id = '{0}'.format(prot_id)    \n",
    "            ec_numbers[prot_id] = it[4]"
   ]
  },
  {
   "cell_type": "code",
   "execution_count": 40,
   "id": "ad8ff714",
   "metadata": {},
   "outputs": [
    {
     "name": "stderr",
     "output_type": "stream",
     "text": [
      "Performing t-SNE using 8 cores.\n",
      "Using no_dims = 2, perplexity = 30.000000, and theta = 0.500000\n",
      "Computing input similarities...\n",
      "Building tree...\n",
      " - point 171 of 1712\n",
      " - point 342 of 1712\n",
      " - point 513 of 1712\n",
      " - point 684 of 1712\n",
      " - point 855 of 1712\n",
      " - point 1026 of 1712\n",
      " - point 1197 of 1712\n",
      " - point 1368 of 1712\n",
      " - point 1539 of 1712\n",
      " - point 1710 of 1712\n",
      "Done in 0.00 seconds (sparsity = 0.068985)!\n",
      "Learning embedding...\n",
      "Iteration 51: error is 76.139155 (50 iterations in 0.00 seconds)\n",
      "Iteration 101: error is 76.012405 (50 iterations in 0.00 seconds)\n",
      "Iteration 151: error is 76.007142 (50 iterations in 1.00 seconds)\n",
      "Iteration 201: error is 76.008412 (50 iterations in 0.00 seconds)\n",
      "Iteration 251: error is 76.006414 (50 iterations in 0.00 seconds)\n",
      "Iteration 301: error is 1.875940 (50 iterations in 0.00 seconds)\n",
      "Iteration 351: error is 1.530794 (50 iterations in 0.00 seconds)\n",
      "Iteration 401: error is 1.412144 (50 iterations in 0.00 seconds)\n",
      "Iteration 451: error is 1.358956 (50 iterations in 0.00 seconds)\n",
      "Iteration 501: error is 1.332781 (50 iterations in 1.00 seconds)\n",
      "Iteration 551: error is 1.318171 (50 iterations in 0.00 seconds)\n",
      "Iteration 601: error is 1.307058 (50 iterations in 0.00 seconds)\n",
      "Iteration 651: error is 1.298672 (50 iterations in 0.00 seconds)\n",
      "Iteration 701: error is 1.291898 (50 iterations in 0.00 seconds)\n",
      "Iteration 751: error is 1.286735 (50 iterations in 0.00 seconds)\n",
      "Iteration 801: error is 1.282441 (50 iterations in 0.00 seconds)\n",
      "Iteration 851: error is 1.279798 (50 iterations in 1.00 seconds)\n",
      "Iteration 901: error is 1.277502 (50 iterations in 0.00 seconds)\n",
      "Iteration 951: error is 1.272934 (50 iterations in 0.00 seconds)\n",
      "Iteration 1001: error is 1.267931 (50 iterations in 0.00 seconds)\n",
      "Iteration 1051: error is 1.263812 (50 iterations in 0.00 seconds)\n",
      "Iteration 1101: error is 1.261636 (50 iterations in 0.00 seconds)\n",
      "Iteration 1151: error is 1.258928 (50 iterations in 0.00 seconds)\n",
      "Iteration 1201: error is 1.257122 (50 iterations in 1.00 seconds)\n",
      "Iteration 1251: error is 1.255430 (50 iterations in 0.00 seconds)\n",
      "Iteration 1301: error is 1.253762 (50 iterations in 0.00 seconds)\n",
      "Iteration 1351: error is 1.252549 (50 iterations in 0.00 seconds)\n",
      "Iteration 1401: error is 1.250705 (50 iterations in 0.00 seconds)\n",
      "Iteration 1451: error is 1.249643 (50 iterations in 0.00 seconds)\n",
      "Iteration 1501: error is 1.248346 (50 iterations in 0.00 seconds)\n",
      "Iteration 1551: error is 1.247095 (50 iterations in 1.00 seconds)\n",
      "Iteration 1601: error is 1.246411 (50 iterations in 0.00 seconds)\n",
      "Iteration 1651: error is 1.245520 (50 iterations in 0.00 seconds)\n",
      "Iteration 1701: error is 1.244947 (50 iterations in 0.00 seconds)\n",
      "Iteration 1751: error is 1.243219 (50 iterations in 0.00 seconds)\n",
      "Iteration 1801: error is 1.242203 (50 iterations in 0.00 seconds)\n",
      "Iteration 1851: error is 1.240929 (50 iterations in 0.00 seconds)\n",
      "Iteration 1901: error is 1.240081 (50 iterations in 0.00 seconds)\n",
      "Iteration 1951: error is 1.238803 (50 iterations in 1.00 seconds)\n",
      "Iteration 2001: error is 1.237851 (50 iterations in 0.00 seconds)\n",
      "Iteration 2051: error is 1.237026 (50 iterations in 0.00 seconds)\n",
      "Iteration 2101: error is 1.235732 (50 iterations in 0.00 seconds)\n",
      "Iteration 2151: error is 1.234724 (50 iterations in 0.00 seconds)\n",
      "Iteration 2201: error is 1.233780 (50 iterations in 0.00 seconds)\n",
      "Iteration 2251: error is 1.233193 (50 iterations in 0.00 seconds)\n",
      "Iteration 2301: error is 1.232430 (50 iterations in 1.00 seconds)\n",
      "Iteration 2351: error is 1.232165 (50 iterations in 0.00 seconds)\n",
      "Iteration 2401: error is 1.231511 (50 iterations in 0.00 seconds)\n",
      "Iteration 2451: error is 1.230470 (50 iterations in 0.00 seconds)\n",
      "Iteration 2501: error is 1.230197 (50 iterations in 0.00 seconds)\n",
      "Iteration 2551: error is 1.229672 (50 iterations in 0.00 seconds)\n",
      "Iteration 2601: error is 1.229006 (50 iterations in 0.00 seconds)\n",
      "Iteration 2651: error is 1.229054 (50 iterations in 1.00 seconds)\n",
      "Iteration 2701: error is 1.227806 (50 iterations in 0.00 seconds)\n",
      "Iteration 2751: error is 1.227322 (50 iterations in 0.00 seconds)\n",
      "Iteration 2801: error is 1.225719 (50 iterations in 0.00 seconds)\n",
      "Iteration 2851: error is 1.225562 (50 iterations in 0.00 seconds)\n",
      "Iteration 2901: error is 1.225237 (50 iterations in 0.00 seconds)\n",
      "Iteration 2951: error is 1.225169 (50 iterations in 1.00 seconds)\n",
      "Iteration 3001: error is 1.224999 (50 iterations in 0.00 seconds)\n",
      "Iteration 3051: error is 1.224488 (50 iterations in 0.00 seconds)\n",
      "Iteration 3101: error is 1.223813 (50 iterations in 0.00 seconds)\n",
      "Iteration 3151: error is 1.223484 (50 iterations in 0.00 seconds)\n",
      "Iteration 3201: error is 1.222927 (50 iterations in 0.00 seconds)\n",
      "Iteration 3251: error is 1.222825 (50 iterations in 0.00 seconds)\n",
      "Iteration 3301: error is 1.222389 (50 iterations in 1.00 seconds)\n",
      "Iteration 3351: error is 1.222108 (50 iterations in 0.00 seconds)\n",
      "Iteration 3401: error is 1.221477 (50 iterations in 0.00 seconds)\n",
      "Iteration 3451: error is 1.221406 (50 iterations in 0.00 seconds)\n",
      "Iteration 3501: error is 1.221818 (50 iterations in 0.00 seconds)\n",
      "Iteration 3551: error is 1.221556 (50 iterations in 0.00 seconds)\n",
      "Iteration 3601: error is 1.221430 (50 iterations in 0.00 seconds)\n",
      "Iteration 3651: error is 1.221007 (50 iterations in 1.00 seconds)\n",
      "Iteration 3701: error is 1.220920 (50 iterations in 0.00 seconds)\n",
      "Iteration 3751: error is 1.221430 (50 iterations in 0.00 seconds)\n",
      "Iteration 3801: error is 1.220858 (50 iterations in 0.00 seconds)\n",
      "Iteration 3851: error is 1.220763 (50 iterations in 0.00 seconds)\n",
      "Iteration 3901: error is 1.220519 (50 iterations in 0.00 seconds)\n",
      "Iteration 3951: error is 1.220272 (50 iterations in 0.00 seconds)\n",
      "Iteration 4001: error is 1.220282 (50 iterations in 0.00 seconds)\n",
      "Iteration 4051: error is 1.219826 (50 iterations in 1.00 seconds)\n",
      "Iteration 4101: error is 1.219884 (50 iterations in 0.00 seconds)\n",
      "Iteration 4151: error is 1.219596 (50 iterations in 0.00 seconds)\n",
      "Iteration 4201: error is 1.219526 (50 iterations in 0.00 seconds)\n",
      "Iteration 4251: error is 1.219086 (50 iterations in 0.00 seconds)\n",
      "Iteration 4301: error is 1.218686 (50 iterations in 0.00 seconds)\n",
      "Iteration 4351: error is 1.218810 (50 iterations in 0.00 seconds)\n",
      "Iteration 4401: error is 1.218808 (50 iterations in 1.00 seconds)\n",
      "Iteration 4451: error is 1.218242 (50 iterations in 0.00 seconds)\n",
      "Iteration 4501: error is 1.218182 (50 iterations in 0.00 seconds)\n",
      "Iteration 4551: error is 1.217621 (50 iterations in 0.00 seconds)\n",
      "Iteration 4601: error is 1.217370 (50 iterations in 0.00 seconds)\n",
      "Iteration 4651: error is 1.217107 (50 iterations in 0.00 seconds)\n",
      "Iteration 4701: error is 1.217076 (50 iterations in 0.00 seconds)\n",
      "Iteration 4751: error is 1.217108 (50 iterations in 1.00 seconds)\n",
      "Iteration 4801: error is 1.216989 (50 iterations in 0.00 seconds)\n",
      "Iteration 4851: error is 1.217106 (50 iterations in 0.00 seconds)\n",
      "Iteration 4901: error is 1.216545 (50 iterations in 0.00 seconds)\n",
      "Iteration 4951: error is 1.216049 (50 iterations in 0.00 seconds)\n",
      "Iteration 5000: error is 1.216042 (50 iterations in 0.00 seconds)\n",
      "Fitting performed in 14.00 seconds.\n"
     ]
    }
   ],
   "source": [
    "ec_dict = {}\n",
    "for prot in ec_numbers:\n",
    "    if prot in protE_embeddings:\n",
    "        ec_dict[prot] = protE_embeddings[prot]\n",
    "        \n",
    "size = modelE.embedding_dim\n",
    "embeds = np.zeros((len(ec_dict), size), dtype=np.float32)\n",
    "\n",
    "for i, emb in enumerate(ec_dict.values()):\n",
    "    embeds[i, :] = emb\n",
    "nodemap = {}\n",
    "for i, m in enumerate(ec_dict.keys()):\n",
    "    nodemap[i] = m\n",
    "    \n",
    "\n",
    "X = TSNE(n_components=2, verbose=1, n_iter=5000, n_jobs=8).fit_transform(embeds)"
   ]
  },
  {
   "cell_type": "code",
   "execution_count": 54,
   "id": "cd8184de",
   "metadata": {},
   "outputs": [
    {
     "data": {
      "image/png": "[encoded data removed]",
      "text/plain": [
       "<Figure size 1440x1440 with 1 Axes>"
      ]
     },
     "metadata": {
      "needs_background": "light"
     },
     "output_type": "display_data"
    }
   ],
   "source": [
    "classes = {'0': [[], []]}\n",
    "for item in nodemap.items():\n",
    "    k, v = item\n",
    "    if v in ec_numbers:\n",
    "        ec = ec_numbers[v].split('.')[0]\n",
    "        if ec not in classes:\n",
    "            classes[ec] = [[], []]\n",
    "        classes[ec][0].append(X[k, 0])\n",
    "        classes[ec][1].append(X[k, 1])\n",
    "        \n",
    "colors = iter(plt.cm.rainbow(np.linspace(0, 1, len(classes))))\n",
    "fig, ax = plt.subplots(figsize=(20, 20))\n",
    "\n",
    "for ec, items in classes.items():\n",
    "    if ec == '0':\n",
    "        continue\n",
    "    color = next(colors)\n",
    "    ax.scatter(items[0], items[1], color=color, label=ec)\n",
    "\n",
    "ax.legend()\n",
    "ax.grid(True)\n",
    "\n",
    "plt.savefig('data/fig_transE.jpg')\n",
    "\n",
    "plt.show()"
   ]
  },
  {
   "cell_type": "code",
   "execution_count": null,
   "id": "708209a0",
   "metadata": {},
   "outputs": [],
   "source": []
  },
  {
   "cell_type": "markdown",
   "id": "d0ca5c3e",
   "metadata": {},
   "source": [
    "## TransH"
   ]
  },
  {
   "cell_type": "code",
   "execution_count": 43,
   "id": "40ded2f1",
   "metadata": {},
   "outputs": [
    {
     "name": "stderr",
     "output_type": "stream",
     "text": [
      "DEBUG:root:BID IS: True\n",
      "DEBUG:root:BID IS: True\n"
     ]
    }
   ],
   "source": [
    "dataset = PPIYeastSlimDataset()\n",
    "    \n",
    "modelH = TranslationalOnt(\n",
    "        dataset, \n",
    "        parsing_method = \"dl2vec\", \n",
    "        trans_method = \"transH\",\n",
    "        embedding_dim = 100,\n",
    "        epochs = 32,\n",
    "        batch_size = 256,\n",
    "        bidirectional_taxonomy = True\n",
    "    )"
   ]
  },
  {
   "cell_type": "code",
   "execution_count": 44,
   "id": "13d89ff1",
   "metadata": {},
   "outputs": [
    {
     "name": "stdout",
     "output_type": "stream",
     "text": [
      "INFO: Number of ontology classes: 11020\n",
      "INFO: Number of ontology classes: 3610\n"
     ]
    },
    {
     "name": "stderr",
     "output_type": "stream",
     "text": [
      "DEBUG:root:Traininig entities: 11020, relations 10. Testing entities: 3610, relations 1.\n",
      "WARNING:pykeen.models.base:No random seed is specified. This may lead to non-reproducible results.\n"
     ]
    },
    {
     "data": {
      "application/vnd.jupyter.widget-view+json": {
       "model_id": "1455a19af53c431b98ed7055fbcf23ab",
       "version_major": 2,
       "version_minor": 0
      },
      "text/plain": [
       "Training epochs on cuda:   0%|          | 0/32 [00:00<?, ?epoch/s]"
      ]
     },
     "metadata": {},
     "output_type": "display_data"
    },
    {
     "data": {
      "application/vnd.jupyter.widget-view+json": {
       "model_id": "",
       "version_major": 2,
       "version_minor": 0
      },
      "text/plain": [
       "Training batches on cuda:   0%|          | 0/974 [00:00<?, ?batch/s]"
      ]
     },
     "metadata": {},
     "output_type": "display_data"
    },
    {
     "data": {
      "application/vnd.jupyter.widget-view+json": {
       "model_id": "",
       "version_major": 2,
       "version_minor": 0
      },
      "text/plain": [
       "Training batches on cuda:   0%|          | 0/974 [00:00<?, ?batch/s]"
      ]
     },
     "metadata": {},
     "output_type": "display_data"
    },
    {
     "data": {
      "application/vnd.jupyter.widget-view+json": {
       "model_id": "",
       "version_major": 2,
       "version_minor": 0
      },
      "text/plain": [
       "Training batches on cuda:   0%|          | 0/974 [00:00<?, ?batch/s]"
      ]
     },
     "metadata": {},
     "output_type": "display_data"
    },
    {
     "data": {
      "application/vnd.jupyter.widget-view+json": {
       "model_id": "",
       "version_major": 2,
       "version_minor": 0
      },
      "text/plain": [
       "Training batches on cuda:   0%|          | 0/974 [00:00<?, ?batch/s]"
      ]
     },
     "metadata": {},
     "output_type": "display_data"
    },
    {
     "data": {
      "application/vnd.jupyter.widget-view+json": {
       "model_id": "",
       "version_major": 2,
       "version_minor": 0
      },
      "text/plain": [
       "Training batches on cuda:   0%|          | 0/974 [00:00<?, ?batch/s]"
      ]
     },
     "metadata": {},
     "output_type": "display_data"
    },
    {
     "data": {
      "application/vnd.jupyter.widget-view+json": {
       "model_id": "",
       "version_major": 2,
       "version_minor": 0
      },
      "text/plain": [
       "Training batches on cuda:   0%|          | 0/974 [00:00<?, ?batch/s]"
      ]
     },
     "metadata": {},
     "output_type": "display_data"
    },
    {
     "data": {
      "application/vnd.jupyter.widget-view+json": {
       "model_id": "",
       "version_major": 2,
       "version_minor": 0
      },
      "text/plain": [
       "Training batches on cuda:   0%|          | 0/974 [00:00<?, ?batch/s]"
      ]
     },
     "metadata": {},
     "output_type": "display_data"
    },
    {
     "data": {
      "application/vnd.jupyter.widget-view+json": {
       "model_id": "",
       "version_major": 2,
       "version_minor": 0
      },
      "text/plain": [
       "Training batches on cuda:   0%|          | 0/974 [00:00<?, ?batch/s]"
      ]
     },
     "metadata": {},
     "output_type": "display_data"
    },
    {
     "data": {
      "application/vnd.jupyter.widget-view+json": {
       "model_id": "",
       "version_major": 2,
       "version_minor": 0
      },
      "text/plain": [
       "Training batches on cuda:   0%|          | 0/974 [00:00<?, ?batch/s]"
      ]
     },
     "metadata": {},
     "output_type": "display_data"
    },
    {
     "data": {
      "application/vnd.jupyter.widget-view+json": {
       "model_id": "",
       "version_major": 2,
       "version_minor": 0
      },
      "text/plain": [
       "Training batches on cuda:   0%|          | 0/974 [00:00<?, ?batch/s]"
      ]
     },
     "metadata": {},
     "output_type": "display_data"
    },
    {
     "data": {
      "application/vnd.jupyter.widget-view+json": {
       "model_id": "",
       "version_major": 2,
       "version_minor": 0
      },
      "text/plain": [
       "Training batches on cuda:   0%|          | 0/974 [00:00<?, ?batch/s]"
      ]
     },
     "metadata": {},
     "output_type": "display_data"
    },
    {
     "data": {
      "application/vnd.jupyter.widget-view+json": {
       "model_id": "",
       "version_major": 2,
       "version_minor": 0
      },
      "text/plain": [
       "Training batches on cuda:   0%|          | 0/974 [00:00<?, ?batch/s]"
      ]
     },
     "metadata": {},
     "output_type": "display_data"
    },
    {
     "data": {
      "application/vnd.jupyter.widget-view+json": {
       "model_id": "",
       "version_major": 2,
       "version_minor": 0
      },
      "text/plain": [
       "Training batches on cuda:   0%|          | 0/974 [00:00<?, ?batch/s]"
      ]
     },
     "metadata": {},
     "output_type": "display_data"
    },
    {
     "data": {
      "application/vnd.jupyter.widget-view+json": {
       "model_id": "",
       "version_major": 2,
       "version_minor": 0
      },
      "text/plain": [
       "Training batches on cuda:   0%|          | 0/974 [00:00<?, ?batch/s]"
      ]
     },
     "metadata": {},
     "output_type": "display_data"
    },
    {
     "data": {
      "application/vnd.jupyter.widget-view+json": {
       "model_id": "",
       "version_major": 2,
       "version_minor": 0
      },
      "text/plain": [
       "Training batches on cuda:   0%|          | 0/974 [00:00<?, ?batch/s]"
      ]
     },
     "metadata": {},
     "output_type": "display_data"
    },
    {
     "data": {
      "application/vnd.jupyter.widget-view+json": {
       "model_id": "",
       "version_major": 2,
       "version_minor": 0
      },
      "text/plain": [
       "Training batches on cuda:   0%|          | 0/974 [00:00<?, ?batch/s]"
      ]
     },
     "metadata": {},
     "output_type": "display_data"
    },
    {
     "data": {
      "application/vnd.jupyter.widget-view+json": {
       "model_id": "",
       "version_major": 2,
       "version_minor": 0
      },
      "text/plain": [
       "Training batches on cuda:   0%|          | 0/974 [00:00<?, ?batch/s]"
      ]
     },
     "metadata": {},
     "output_type": "display_data"
    },
    {
     "data": {
      "application/vnd.jupyter.widget-view+json": {
       "model_id": "",
       "version_major": 2,
       "version_minor": 0
      },
      "text/plain": [
       "Training batches on cuda:   0%|          | 0/974 [00:00<?, ?batch/s]"
      ]
     },
     "metadata": {},
     "output_type": "display_data"
    },
    {
     "data": {
      "application/vnd.jupyter.widget-view+json": {
       "model_id": "",
       "version_major": 2,
       "version_minor": 0
      },
      "text/plain": [
       "Training batches on cuda:   0%|          | 0/974 [00:00<?, ?batch/s]"
      ]
     },
     "metadata": {},
     "output_type": "display_data"
    },
    {
     "data": {
      "application/vnd.jupyter.widget-view+json": {
       "model_id": "",
       "version_major": 2,
       "version_minor": 0
      },
      "text/plain": [
       "Training batches on cuda:   0%|          | 0/974 [00:00<?, ?batch/s]"
      ]
     },
     "metadata": {},
     "output_type": "display_data"
    },
    {
     "data": {
      "application/vnd.jupyter.widget-view+json": {
       "model_id": "",
       "version_major": 2,
       "version_minor": 0
      },
      "text/plain": [
       "Training batches on cuda:   0%|          | 0/974 [00:00<?, ?batch/s]"
      ]
     },
     "metadata": {},
     "output_type": "display_data"
    },
    {
     "data": {
      "application/vnd.jupyter.widget-view+json": {
       "model_id": "",
       "version_major": 2,
       "version_minor": 0
      },
      "text/plain": [
       "Training batches on cuda:   0%|          | 0/974 [00:00<?, ?batch/s]"
      ]
     },
     "metadata": {},
     "output_type": "display_data"
    },
    {
     "data": {
      "application/vnd.jupyter.widget-view+json": {
       "model_id": "",
       "version_major": 2,
       "version_minor": 0
      },
      "text/plain": [
       "Training batches on cuda:   0%|          | 0/974 [00:00<?, ?batch/s]"
      ]
     },
     "metadata": {},
     "output_type": "display_data"
    },
    {
     "data": {
      "application/vnd.jupyter.widget-view+json": {
       "model_id": "",
       "version_major": 2,
       "version_minor": 0
      },
      "text/plain": [
       "Training batches on cuda:   0%|          | 0/974 [00:00<?, ?batch/s]"
      ]
     },
     "metadata": {},
     "output_type": "display_data"
    },
    {
     "data": {
      "application/vnd.jupyter.widget-view+json": {
       "model_id": "",
       "version_major": 2,
       "version_minor": 0
      },
      "text/plain": [
       "Training batches on cuda:   0%|          | 0/974 [00:00<?, ?batch/s]"
      ]
     },
     "metadata": {},
     "output_type": "display_data"
    },
    {
     "data": {
      "application/vnd.jupyter.widget-view+json": {
       "model_id": "",
       "version_major": 2,
       "version_minor": 0
      },
      "text/plain": [
       "Training batches on cuda:   0%|          | 0/974 [00:00<?, ?batch/s]"
      ]
     },
     "metadata": {},
     "output_type": "display_data"
    },
    {
     "data": {
      "application/vnd.jupyter.widget-view+json": {
       "model_id": "",
       "version_major": 2,
       "version_minor": 0
      },
      "text/plain": [
       "Training batches on cuda:   0%|          | 0/974 [00:00<?, ?batch/s]"
      ]
     },
     "metadata": {},
     "output_type": "display_data"
    },
    {
     "data": {
      "application/vnd.jupyter.widget-view+json": {
       "model_id": "",
       "version_major": 2,
       "version_minor": 0
      },
      "text/plain": [
       "Training batches on cuda:   0%|          | 0/974 [00:00<?, ?batch/s]"
      ]
     },
     "metadata": {},
     "output_type": "display_data"
    },
    {
     "data": {
      "application/vnd.jupyter.widget-view+json": {
       "model_id": "",
       "version_major": 2,
       "version_minor": 0
      },
      "text/plain": [
       "Training batches on cuda:   0%|          | 0/974 [00:00<?, ?batch/s]"
      ]
     },
     "metadata": {},
     "output_type": "display_data"
    },
    {
     "data": {
      "application/vnd.jupyter.widget-view+json": {
       "model_id": "",
       "version_major": 2,
       "version_minor": 0
      },
      "text/plain": [
       "Training batches on cuda:   0%|          | 0/974 [00:00<?, ?batch/s]"
      ]
     },
     "metadata": {},
     "output_type": "display_data"
    },
    {
     "data": {
      "application/vnd.jupyter.widget-view+json": {
       "model_id": "",
       "version_major": 2,
       "version_minor": 0
      },
      "text/plain": [
       "Training batches on cuda:   0%|          | 0/974 [00:00<?, ?batch/s]"
      ]
     },
     "metadata": {},
     "output_type": "display_data"
    },
    {
     "data": {
      "application/vnd.jupyter.widget-view+json": {
       "model_id": "",
       "version_major": 2,
       "version_minor": 0
      },
      "text/plain": [
       "Training batches on cuda:   0%|          | 0/974 [00:00<?, ?batch/s]"
      ]
     },
     "metadata": {},
     "output_type": "display_data"
    }
   ],
   "source": [
    "modelH.train()"
   ]
  },
  {
   "cell_type": "code",
   "execution_count": 45,
   "id": "c7affe9a",
   "metadata": {},
   "outputs": [],
   "source": [
    "transH_embeddings = modelH.model.entity_representations[0](indices=None).cpu().detach().numpy()\n",
    "protH_embeddings = {}\n",
    "\n",
    "for node, idx in modelH.entities_idx.items():\n",
    "    if node.startswith(\"4932\"):\n",
    "        protH_embeddings[node] = transH_embeddings[idx]\n",
    "        \n",
    "with open(\"data/protH_emb\", \"wb\") as file:\n",
    "    pkl.dump(protH_embeddings, file)"
   ]
  },
  {
   "cell_type": "code",
   "execution_count": 46,
   "id": "a948bc2a",
   "metadata": {},
   "outputs": [
    {
     "name": "stderr",
     "output_type": "stream",
     "text": [
      "Performing t-SNE using 8 cores.\n",
      "Using no_dims = 2, perplexity = 30.000000, and theta = 0.500000\n",
      "Computing input similarities...\n",
      "Building tree...\n",
      " - point 171 of 1712\n",
      " - point 342 of 1712\n",
      " - point 514 of 1712\n",
      " - point 684 of 1712\n",
      " - point 856 of 1712\n",
      " - point 1027 of 1712\n",
      " - point 1199 of 1712\n",
      " - point 1368 of 1712\n",
      " - point 1539 of 1712\n",
      " - point 1710 of 1712\n",
      "Done in 0.00 seconds (sparsity = 0.074302)!\n",
      "Learning embedding...\n",
      "Iteration 51: error is 66.211170 (50 iterations in 0.00 seconds)\n",
      "Iteration 101: error is 63.751064 (50 iterations in 0.00 seconds)\n",
      "Iteration 151: error is 63.428983 (50 iterations in 0.00 seconds)\n",
      "Iteration 201: error is 63.368496 (50 iterations in 1.00 seconds)\n",
      "Iteration 251: error is 63.361506 (50 iterations in 0.00 seconds)\n",
      "Iteration 301: error is 1.119179 (50 iterations in 0.00 seconds)\n",
      "Iteration 351: error is 0.854728 (50 iterations in 0.00 seconds)\n",
      "Iteration 401: error is 0.767427 (50 iterations in 0.00 seconds)\n",
      "Iteration 451: error is 0.738417 (50 iterations in 0.00 seconds)\n",
      "Iteration 501: error is 0.722866 (50 iterations in 0.00 seconds)\n",
      "Iteration 551: error is 0.710571 (50 iterations in 0.00 seconds)\n",
      "Iteration 601: error is 0.700776 (50 iterations in 1.00 seconds)\n",
      "Iteration 651: error is 0.693436 (50 iterations in 0.00 seconds)\n",
      "Iteration 701: error is 0.687504 (50 iterations in 0.00 seconds)\n",
      "Iteration 751: error is 0.682835 (50 iterations in 0.00 seconds)\n",
      "Iteration 801: error is 0.679195 (50 iterations in 0.00 seconds)\n",
      "Iteration 851: error is 0.676016 (50 iterations in 0.00 seconds)\n",
      "Iteration 901: error is 0.673151 (50 iterations in 0.00 seconds)\n",
      "Iteration 951: error is 0.671454 (50 iterations in 1.00 seconds)\n",
      "Iteration 1001: error is 0.670660 (50 iterations in 0.00 seconds)\n",
      "Iteration 1051: error is 0.668882 (50 iterations in 0.00 seconds)\n",
      "Iteration 1101: error is 0.667386 (50 iterations in 0.00 seconds)\n",
      "Iteration 1151: error is 0.666078 (50 iterations in 0.00 seconds)\n",
      "Iteration 1201: error is 0.665021 (50 iterations in 0.00 seconds)\n",
      "Iteration 1251: error is 0.663685 (50 iterations in 0.00 seconds)\n",
      "Iteration 1301: error is 0.662315 (50 iterations in 0.00 seconds)\n",
      "Iteration 1351: error is 0.660655 (50 iterations in 1.00 seconds)\n",
      "Iteration 1401: error is 0.658971 (50 iterations in 0.00 seconds)\n",
      "Iteration 1451: error is 0.658423 (50 iterations in 0.00 seconds)\n",
      "Iteration 1501: error is 0.657999 (50 iterations in 0.00 seconds)\n",
      "Iteration 1551: error is 0.657131 (50 iterations in 0.00 seconds)\n",
      "Iteration 1601: error is 0.656623 (50 iterations in 0.00 seconds)\n",
      "Iteration 1651: error is 0.655410 (50 iterations in 0.00 seconds)\n",
      "Iteration 1701: error is 0.654261 (50 iterations in 1.00 seconds)\n",
      "Iteration 1751: error is 0.652685 (50 iterations in 0.00 seconds)\n",
      "Iteration 1801: error is 0.651704 (50 iterations in 0.00 seconds)\n",
      "Iteration 1851: error is 0.651330 (50 iterations in 0.00 seconds)\n",
      "Iteration 1901: error is 0.649871 (50 iterations in 0.00 seconds)\n",
      "Iteration 1951: error is 0.648595 (50 iterations in 0.00 seconds)\n",
      "Iteration 2001: error is 0.648035 (50 iterations in 0.00 seconds)\n",
      "Iteration 2051: error is 0.647248 (50 iterations in 0.00 seconds)\n",
      "Iteration 2101: error is 0.646248 (50 iterations in 1.00 seconds)\n",
      "Iteration 2151: error is 0.645622 (50 iterations in 0.00 seconds)\n",
      "Iteration 2201: error is 0.644523 (50 iterations in 0.00 seconds)\n",
      "Iteration 2251: error is 0.643975 (50 iterations in 0.00 seconds)\n",
      "Iteration 2301: error is 0.644185 (50 iterations in 0.00 seconds)\n",
      "Iteration 2351: error is 0.643739 (50 iterations in 0.00 seconds)\n",
      "Iteration 2401: error is 0.643246 (50 iterations in 0.00 seconds)\n",
      "Iteration 2451: error is 0.643004 (50 iterations in 1.00 seconds)\n",
      "Iteration 2501: error is 0.642771 (50 iterations in 0.00 seconds)\n",
      "Iteration 2551: error is 0.642478 (50 iterations in 0.00 seconds)\n",
      "Iteration 2601: error is 0.642079 (50 iterations in 0.00 seconds)\n",
      "Iteration 2651: error is 0.641945 (50 iterations in 0.00 seconds)\n",
      "Iteration 2701: error is 0.642052 (50 iterations in 0.00 seconds)\n",
      "Iteration 2751: error is 0.641349 (50 iterations in 0.00 seconds)\n",
      "Iteration 2801: error is 0.640504 (50 iterations in 0.00 seconds)\n",
      "Iteration 2851: error is 0.640155 (50 iterations in 1.00 seconds)\n",
      "Iteration 2901: error is 0.639283 (50 iterations in 0.00 seconds)\n",
      "Iteration 2951: error is 0.638682 (50 iterations in 0.00 seconds)\n",
      "Iteration 3001: error is 0.638561 (50 iterations in 0.00 seconds)\n",
      "Iteration 3051: error is 0.639500 (50 iterations in 0.00 seconds)\n",
      "Iteration 3101: error is 0.639175 (50 iterations in 0.00 seconds)\n",
      "Iteration 3151: error is 0.639044 (50 iterations in 0.00 seconds)\n",
      "Iteration 3201: error is 0.639221 (50 iterations in 1.00 seconds)\n",
      "Iteration 3251: error is 0.639183 (50 iterations in 0.00 seconds)\n",
      "Iteration 3301: error is 0.639556 (50 iterations in 0.00 seconds)\n",
      "Iteration 3351: error is 0.638713 (50 iterations in 0.00 seconds)\n",
      "Iteration 3401: error is 0.638294 (50 iterations in 0.00 seconds)\n",
      "Iteration 3451: error is 0.637971 (50 iterations in 0.00 seconds)\n",
      "Iteration 3501: error is 0.637955 (50 iterations in 0.00 seconds)\n",
      "Iteration 3551: error is 0.638300 (50 iterations in 0.00 seconds)\n",
      "Iteration 3601: error is 0.638027 (50 iterations in 1.00 seconds)\n",
      "Iteration 3651: error is 0.637921 (50 iterations in 0.00 seconds)\n",
      "Iteration 3701: error is 0.637714 (50 iterations in 0.00 seconds)\n",
      "Iteration 3751: error is 0.637725 (50 iterations in 0.00 seconds)\n",
      "Iteration 3801: error is 0.637857 (50 iterations in 0.00 seconds)\n",
      "Iteration 3851: error is 0.637807 (50 iterations in 0.00 seconds)\n",
      "Iteration 3901: error is 0.637915 (50 iterations in 1.00 seconds)\n",
      "Iteration 3951: error is 0.637378 (50 iterations in 0.00 seconds)\n",
      "Iteration 4001: error is 0.637594 (50 iterations in 0.00 seconds)\n",
      "Iteration 4051: error is 0.637718 (50 iterations in 0.00 seconds)\n",
      "Iteration 4101: error is 0.637041 (50 iterations in 0.00 seconds)\n",
      "Iteration 4151: error is 0.636721 (50 iterations in 0.00 seconds)\n",
      "Iteration 4201: error is 0.636943 (50 iterations in 0.00 seconds)\n",
      "Iteration 4251: error is 0.637133 (50 iterations in 0.00 seconds)\n",
      "Iteration 4301: error is 0.637477 (50 iterations in 1.00 seconds)\n",
      "Iteration 4351: error is 0.637310 (50 iterations in 0.00 seconds)\n",
      "Iteration 4401: error is 0.637181 (50 iterations in 0.00 seconds)\n",
      "Iteration 4451: error is 0.637297 (50 iterations in 0.00 seconds)\n",
      "Iteration 4501: error is 0.637329 (50 iterations in 0.00 seconds)\n",
      "Iteration 4551: error is 0.637478 (50 iterations in 0.00 seconds)\n",
      "Iteration 4601: error is 0.637843 (50 iterations in 0.00 seconds)\n",
      "Iteration 4651: error is 0.637868 (50 iterations in 1.00 seconds)\n",
      "Iteration 4701: error is 0.638166 (50 iterations in 0.00 seconds)\n",
      "Iteration 4751: error is 0.637985 (50 iterations in 0.00 seconds)\n",
      "Iteration 4801: error is 0.637784 (50 iterations in 0.00 seconds)\n",
      "Iteration 4851: error is 0.637536 (50 iterations in 0.00 seconds)\n",
      "Iteration 4901: error is 0.637570 (50 iterations in 0.00 seconds)\n",
      "Iteration 4951: error is 0.637795 (50 iterations in 0.00 seconds)\n",
      "Iteration 5000: error is 0.637929 (50 iterations in 0.00 seconds)\n",
      "Fitting performed in 13.00 seconds.\n"
     ]
    }
   ],
   "source": [
    "ec_dict_H = {}\n",
    "for prot in ec_numbers:\n",
    "    if prot in protH_embeddings:\n",
    "        ec_dict_H[prot] = protH_embeddings[prot]\n",
    "        \n",
    "size = modelH.embedding_dim\n",
    "embedsH = np.zeros((len(ec_dict_H), size), dtype=np.float32)\n",
    "\n",
    "for i, emb in enumerate(ec_dict_H.values()):\n",
    "    embedsH[i, :] = emb\n",
    "nodemapH = {}\n",
    "for i, m in enumerate(ec_dict_H.keys()):\n",
    "    nodemapH[i] = m\n",
    "    \n",
    "\n",
    "XH = TSNE(n_components=2, verbose=1, n_iter=5000, n_jobs=8).fit_transform(embedsH)"
   ]
  },
  {
   "cell_type": "code",
   "execution_count": 55,
   "id": "d2f6e580",
   "metadata": {},
   "outputs": [
    {
     "data": {
      "image/png": "[encoded data removed]",
      "text/plain": [
       "<Figure size 1440x1440 with 1 Axes>"
      ]
     },
     "metadata": {
      "needs_background": "light"
     },
     "output_type": "display_data"
    }
   ],
   "source": [
    "classes = {'0': [[], []]}\n",
    "for item in nodemapH.items():\n",
    "    k, v = item\n",
    "    if v in ec_numbers:\n",
    "        ec = ec_numbers[v].split('.')[0]\n",
    "        if ec not in classes:\n",
    "            classes[ec] = [[], []]\n",
    "        classes[ec][0].append(XH[k, 0])\n",
    "        classes[ec][1].append(XH[k, 1])\n",
    "        \n",
    "colors = iter(plt.cm.rainbow(np.linspace(0, 1, len(classes))))\n",
    "fig, ax = plt.subplots(figsize=(20, 20))\n",
    "\n",
    "for ec, items in classes.items():\n",
    "    if ec == '0':\n",
    "        continue\n",
    "    color = next(colors)\n",
    "    ax.scatter(items[0], items[1], color=color, label=ec)\n",
    "\n",
    "ax.legend()\n",
    "ax.grid(True)\n",
    "\n",
    "plt.savefig('data/fig_transH.jpg')\n",
    "\n",
    "plt.show()"
   ]
  },
  {
   "cell_type": "markdown",
   "id": "36edbfc1",
   "metadata": {},
   "source": [
    "## TransR"
   ]
  },
  {
   "cell_type": "code",
   "execution_count": 48,
   "id": "21ef686b",
   "metadata": {},
   "outputs": [
    {
     "name": "stderr",
     "output_type": "stream",
     "text": [
      "DEBUG:root:BID IS: True\n",
      "DEBUG:root:BID IS: True\n"
     ]
    }
   ],
   "source": [
    "dataset = PPIYeastSlimDataset()\n",
    "    \n",
    "modelR = TranslationalOnt(\n",
    "        dataset, \n",
    "        parsing_method = \"dl2vec\", \n",
    "        trans_method = \"transR\",\n",
    "        embedding_dim = 100,\n",
    "        epochs = 32,\n",
    "        batch_size = 256,\n",
    "        bidirectional_taxonomy = True\n",
    "    )"
   ]
  },
  {
   "cell_type": "code",
   "execution_count": 49,
   "id": "cd40772e",
   "metadata": {},
   "outputs": [
    {
     "name": "stdout",
     "output_type": "stream",
     "text": [
      "INFO: Number of ontology classes: 11020\n",
      "INFO: Number of ontology classes: 3610\n"
     ]
    },
    {
     "name": "stderr",
     "output_type": "stream",
     "text": [
      "DEBUG:root:Traininig entities: 11020, relations 10. Testing entities: 3610, relations 1.\n",
      "WARNING:pykeen.models.base:No random seed is specified. This may lead to non-reproducible results.\n"
     ]
    },
    {
     "data": {
      "application/vnd.jupyter.widget-view+json": {
       "model_id": "673eefea5a4546ba8acbf63bd9ef353c",
       "version_major": 2,
       "version_minor": 0
      },
      "text/plain": [
       "Training epochs on cuda:   0%|          | 0/32 [00:00<?, ?epoch/s]"
      ]
     },
     "metadata": {},
     "output_type": "display_data"
    },
    {
     "data": {
      "application/vnd.jupyter.widget-view+json": {
       "model_id": "",
       "version_major": 2,
       "version_minor": 0
      },
      "text/plain": [
       "Training batches on cuda:   0%|          | 0/974 [00:00<?, ?batch/s]"
      ]
     },
     "metadata": {},
     "output_type": "display_data"
    },
    {
     "data": {
      "application/vnd.jupyter.widget-view+json": {
       "model_id": "",
       "version_major": 2,
       "version_minor": 0
      },
      "text/plain": [
       "Training batches on cuda:   0%|          | 0/974 [00:00<?, ?batch/s]"
      ]
     },
     "metadata": {},
     "output_type": "display_data"
    },
    {
     "data": {
      "application/vnd.jupyter.widget-view+json": {
       "model_id": "",
       "version_major": 2,
       "version_minor": 0
      },
      "text/plain": [
       "Training batches on cuda:   0%|          | 0/974 [00:00<?, ?batch/s]"
      ]
     },
     "metadata": {},
     "output_type": "display_data"
    },
    {
     "data": {
      "application/vnd.jupyter.widget-view+json": {
       "model_id": "",
       "version_major": 2,
       "version_minor": 0
      },
      "text/plain": [
       "Training batches on cuda:   0%|          | 0/974 [00:00<?, ?batch/s]"
      ]
     },
     "metadata": {},
     "output_type": "display_data"
    },
    {
     "data": {
      "application/vnd.jupyter.widget-view+json": {
       "model_id": "",
       "version_major": 2,
       "version_minor": 0
      },
      "text/plain": [
       "Training batches on cuda:   0%|          | 0/974 [00:00<?, ?batch/s]"
      ]
     },
     "metadata": {},
     "output_type": "display_data"
    },
    {
     "data": {
      "application/vnd.jupyter.widget-view+json": {
       "model_id": "",
       "version_major": 2,
       "version_minor": 0
      },
      "text/plain": [
       "Training batches on cuda:   0%|          | 0/974 [00:00<?, ?batch/s]"
      ]
     },
     "metadata": {},
     "output_type": "display_data"
    },
    {
     "data": {
      "application/vnd.jupyter.widget-view+json": {
       "model_id": "",
       "version_major": 2,
       "version_minor": 0
      },
      "text/plain": [
       "Training batches on cuda:   0%|          | 0/974 [00:00<?, ?batch/s]"
      ]
     },
     "metadata": {},
     "output_type": "display_data"
    },
    {
     "data": {
      "application/vnd.jupyter.widget-view+json": {
       "model_id": "",
       "version_major": 2,
       "version_minor": 0
      },
      "text/plain": [
       "Training batches on cuda:   0%|          | 0/974 [00:00<?, ?batch/s]"
      ]
     },
     "metadata": {},
     "output_type": "display_data"
    },
    {
     "data": {
      "application/vnd.jupyter.widget-view+json": {
       "model_id": "",
       "version_major": 2,
       "version_minor": 0
      },
      "text/plain": [
       "Training batches on cuda:   0%|          | 0/974 [00:00<?, ?batch/s]"
      ]
     },
     "metadata": {},
     "output_type": "display_data"
    },
    {
     "data": {
      "application/vnd.jupyter.widget-view+json": {
       "model_id": "",
       "version_major": 2,
       "version_minor": 0
      },
      "text/plain": [
       "Training batches on cuda:   0%|          | 0/974 [00:00<?, ?batch/s]"
      ]
     },
     "metadata": {},
     "output_type": "display_data"
    },
    {
     "data": {
      "application/vnd.jupyter.widget-view+json": {
       "model_id": "",
       "version_major": 2,
       "version_minor": 0
      },
      "text/plain": [
       "Training batches on cuda:   0%|          | 0/974 [00:00<?, ?batch/s]"
      ]
     },
     "metadata": {},
     "output_type": "display_data"
    },
    {
     "data": {
      "application/vnd.jupyter.widget-view+json": {
       "model_id": "",
       "version_major": 2,
       "version_minor": 0
      },
      "text/plain": [
       "Training batches on cuda:   0%|          | 0/974 [00:00<?, ?batch/s]"
      ]
     },
     "metadata": {},
     "output_type": "display_data"
    },
    {
     "data": {
      "application/vnd.jupyter.widget-view+json": {
       "model_id": "",
       "version_major": 2,
       "version_minor": 0
      },
      "text/plain": [
       "Training batches on cuda:   0%|          | 0/974 [00:00<?, ?batch/s]"
      ]
     },
     "metadata": {},
     "output_type": "display_data"
    },
    {
     "data": {
      "application/vnd.jupyter.widget-view+json": {
       "model_id": "",
       "version_major": 2,
       "version_minor": 0
      },
      "text/plain": [
       "Training batches on cuda:   0%|          | 0/974 [00:00<?, ?batch/s]"
      ]
     },
     "metadata": {},
     "output_type": "display_data"
    },
    {
     "data": {
      "application/vnd.jupyter.widget-view+json": {
       "model_id": "",
       "version_major": 2,
       "version_minor": 0
      },
      "text/plain": [
       "Training batches on cuda:   0%|          | 0/974 [00:00<?, ?batch/s]"
      ]
     },
     "metadata": {},
     "output_type": "display_data"
    },
    {
     "data": {
      "application/vnd.jupyter.widget-view+json": {
       "model_id": "",
       "version_major": 2,
       "version_minor": 0
      },
      "text/plain": [
       "Training batches on cuda:   0%|          | 0/974 [00:00<?, ?batch/s]"
      ]
     },
     "metadata": {},
     "output_type": "display_data"
    },
    {
     "data": {
      "application/vnd.jupyter.widget-view+json": {
       "model_id": "",
       "version_major": 2,
       "version_minor": 0
      },
      "text/plain": [
       "Training batches on cuda:   0%|          | 0/974 [00:00<?, ?batch/s]"
      ]
     },
     "metadata": {},
     "output_type": "display_data"
    },
    {
     "data": {
      "application/vnd.jupyter.widget-view+json": {
       "model_id": "",
       "version_major": 2,
       "version_minor": 0
      },
      "text/plain": [
       "Training batches on cuda:   0%|          | 0/974 [00:00<?, ?batch/s]"
      ]
     },
     "metadata": {},
     "output_type": "display_data"
    },
    {
     "data": {
      "application/vnd.jupyter.widget-view+json": {
       "model_id": "",
       "version_major": 2,
       "version_minor": 0
      },
      "text/plain": [
       "Training batches on cuda:   0%|          | 0/974 [00:00<?, ?batch/s]"
      ]
     },
     "metadata": {},
     "output_type": "display_data"
    },
    {
     "data": {
      "application/vnd.jupyter.widget-view+json": {
       "model_id": "",
       "version_major": 2,
       "version_minor": 0
      },
      "text/plain": [
       "Training batches on cuda:   0%|          | 0/974 [00:00<?, ?batch/s]"
      ]
     },
     "metadata": {},
     "output_type": "display_data"
    },
    {
     "data": {
      "application/vnd.jupyter.widget-view+json": {
       "model_id": "",
       "version_major": 2,
       "version_minor": 0
      },
      "text/plain": [
       "Training batches on cuda:   0%|          | 0/974 [00:00<?, ?batch/s]"
      ]
     },
     "metadata": {},
     "output_type": "display_data"
    },
    {
     "data": {
      "application/vnd.jupyter.widget-view+json": {
       "model_id": "",
       "version_major": 2,
       "version_minor": 0
      },
      "text/plain": [
       "Training batches on cuda:   0%|          | 0/974 [00:00<?, ?batch/s]"
      ]
     },
     "metadata": {},
     "output_type": "display_data"
    },
    {
     "data": {
      "application/vnd.jupyter.widget-view+json": {
       "model_id": "",
       "version_major": 2,
       "version_minor": 0
      },
      "text/plain": [
       "Training batches on cuda:   0%|          | 0/974 [00:00<?, ?batch/s]"
      ]
     },
     "metadata": {},
     "output_type": "display_data"
    },
    {
     "data": {
      "application/vnd.jupyter.widget-view+json": {
       "model_id": "",
       "version_major": 2,
       "version_minor": 0
      },
      "text/plain": [
       "Training batches on cuda:   0%|          | 0/974 [00:00<?, ?batch/s]"
      ]
     },
     "metadata": {},
     "output_type": "display_data"
    },
    {
     "data": {
      "application/vnd.jupyter.widget-view+json": {
       "model_id": "",
       "version_major": 2,
       "version_minor": 0
      },
      "text/plain": [
       "Training batches on cuda:   0%|          | 0/974 [00:00<?, ?batch/s]"
      ]
     },
     "metadata": {},
     "output_type": "display_data"
    },
    {
     "data": {
      "application/vnd.jupyter.widget-view+json": {
       "model_id": "",
       "version_major": 2,
       "version_minor": 0
      },
      "text/plain": [
       "Training batches on cuda:   0%|          | 0/974 [00:00<?, ?batch/s]"
      ]
     },
     "metadata": {},
     "output_type": "display_data"
    },
    {
     "data": {
      "application/vnd.jupyter.widget-view+json": {
       "model_id": "",
       "version_major": 2,
       "version_minor": 0
      },
      "text/plain": [
       "Training batches on cuda:   0%|          | 0/974 [00:00<?, ?batch/s]"
      ]
     },
     "metadata": {},
     "output_type": "display_data"
    },
    {
     "data": {
      "application/vnd.jupyter.widget-view+json": {
       "model_id": "",
       "version_major": 2,
       "version_minor": 0
      },
      "text/plain": [
       "Training batches on cuda:   0%|          | 0/974 [00:00<?, ?batch/s]"
      ]
     },
     "metadata": {},
     "output_type": "display_data"
    },
    {
     "data": {
      "application/vnd.jupyter.widget-view+json": {
       "model_id": "",
       "version_major": 2,
       "version_minor": 0
      },
      "text/plain": [
       "Training batches on cuda:   0%|          | 0/974 [00:00<?, ?batch/s]"
      ]
     },
     "metadata": {},
     "output_type": "display_data"
    },
    {
     "data": {
      "application/vnd.jupyter.widget-view+json": {
       "model_id": "",
       "version_major": 2,
       "version_minor": 0
      },
      "text/plain": [
       "Training batches on cuda:   0%|          | 0/974 [00:00<?, ?batch/s]"
      ]
     },
     "metadata": {},
     "output_type": "display_data"
    },
    {
     "data": {
      "application/vnd.jupyter.widget-view+json": {
       "model_id": "",
       "version_major": 2,
       "version_minor": 0
      },
      "text/plain": [
       "Training batches on cuda:   0%|          | 0/974 [00:00<?, ?batch/s]"
      ]
     },
     "metadata": {},
     "output_type": "display_data"
    },
    {
     "data": {
      "application/vnd.jupyter.widget-view+json": {
       "model_id": "",
       "version_major": 2,
       "version_minor": 0
      },
      "text/plain": [
       "Training batches on cuda:   0%|          | 0/974 [00:00<?, ?batch/s]"
      ]
     },
     "metadata": {},
     "output_type": "display_data"
    }
   ],
   "source": [
    "modelR.train()"
   ]
  },
  {
   "cell_type": "code",
   "execution_count": 50,
   "id": "9bf178f5",
   "metadata": {},
   "outputs": [],
   "source": [
    "transR_embeddings = modelR.model.entity_representations[0](indices=None).cpu().detach().numpy()\n",
    "protR_embeddings = {}\n",
    "\n",
    "for node, idx in modelR.entities_idx.items():\n",
    "    if node.startswith(\"4932\"):\n",
    "        protR_embeddings[node] = transR_embeddings[idx]\n",
    "        \n",
    "with open(\"data/protR_emb\", \"wb\") as file:\n",
    "    pkl.dump(protR_embeddings, file)"
   ]
  },
  {
   "cell_type": "code",
   "execution_count": 51,
   "id": "5a2ce3fe",
   "metadata": {},
   "outputs": [
    {
     "name": "stderr",
     "output_type": "stream",
     "text": [
      "Performing t-SNE using 8 cores.\n",
      "Using no_dims = 2, perplexity = 30.000000, and theta = 0.500000\n",
      "Computing input similarities...\n",
      "Building tree...\n",
      " - point 171 of 1712\n",
      " - point 342 of 1712\n",
      " - point 513 of 1712\n",
      " - point 684 of 1712\n",
      " - point 855 of 1712\n",
      " - point 1026 of 1712\n",
      " - point 1197 of 1712\n",
      " - point 1368 of 1712\n",
      " - point 1539 of 1712\n",
      " - point 1710 of 1712\n",
      "Done in 0.00 seconds (sparsity = 0.067122)!\n",
      "Learning embedding...\n",
      "Iteration 51: error is 74.465334 (50 iterations in 0.00 seconds)\n",
      "Iteration 101: error is 74.438929 (50 iterations in 0.00 seconds)\n",
      "Iteration 151: error is 74.447593 (50 iterations in 0.00 seconds)\n",
      "Iteration 201: error is 74.426427 (50 iterations in 0.00 seconds)\n",
      "Iteration 251: error is 73.910458 (50 iterations in 1.00 seconds)\n",
      "Iteration 301: error is 1.601166 (50 iterations in 0.00 seconds)\n",
      "Iteration 351: error is 1.350794 (50 iterations in 0.00 seconds)\n",
      "Iteration 401: error is 1.271399 (50 iterations in 0.00 seconds)\n",
      "Iteration 451: error is 1.236197 (50 iterations in 0.00 seconds)\n",
      "Iteration 501: error is 1.217552 (50 iterations in 0.00 seconds)\n",
      "Iteration 551: error is 1.207074 (50 iterations in 0.00 seconds)\n",
      "Iteration 601: error is 1.200254 (50 iterations in 0.00 seconds)\n",
      "Iteration 651: error is 1.194534 (50 iterations in 1.00 seconds)\n",
      "Iteration 701: error is 1.188472 (50 iterations in 0.00 seconds)\n",
      "Iteration 751: error is 1.184382 (50 iterations in 0.00 seconds)\n",
      "Iteration 801: error is 1.180128 (50 iterations in 0.00 seconds)\n",
      "Iteration 851: error is 1.175772 (50 iterations in 0.00 seconds)\n",
      "Iteration 901: error is 1.171916 (50 iterations in 0.00 seconds)\n",
      "Iteration 951: error is 1.168476 (50 iterations in 0.00 seconds)\n",
      "Iteration 1001: error is 1.166332 (50 iterations in 0.00 seconds)\n",
      "Iteration 1051: error is 1.164274 (50 iterations in 1.00 seconds)\n",
      "Iteration 1101: error is 1.163151 (50 iterations in 0.00 seconds)\n",
      "Iteration 1151: error is 1.161552 (50 iterations in 0.00 seconds)\n",
      "Iteration 1201: error is 1.160317 (50 iterations in 0.00 seconds)\n",
      "Iteration 1251: error is 1.158475 (50 iterations in 0.00 seconds)\n",
      "Iteration 1301: error is 1.156879 (50 iterations in 0.00 seconds)\n",
      "Iteration 1351: error is 1.155663 (50 iterations in 0.00 seconds)\n",
      "Iteration 1401: error is 1.154744 (50 iterations in 0.00 seconds)\n",
      "Iteration 1451: error is 1.153106 (50 iterations in 1.00 seconds)\n",
      "Iteration 1501: error is 1.152175 (50 iterations in 0.00 seconds)\n",
      "Iteration 1551: error is 1.150421 (50 iterations in 0.00 seconds)\n",
      "Iteration 1601: error is 1.149608 (50 iterations in 0.00 seconds)\n",
      "Iteration 1651: error is 1.148510 (50 iterations in 0.00 seconds)\n",
      "Iteration 1701: error is 1.147522 (50 iterations in 0.00 seconds)\n",
      "Iteration 1751: error is 1.146751 (50 iterations in 0.00 seconds)\n",
      "Iteration 1801: error is 1.145379 (50 iterations in 1.00 seconds)\n",
      "Iteration 1851: error is 1.144724 (50 iterations in 0.00 seconds)\n",
      "Iteration 1901: error is 1.144130 (50 iterations in 0.00 seconds)\n",
      "Iteration 1951: error is 1.143407 (50 iterations in 0.00 seconds)\n",
      "Iteration 2001: error is 1.143049 (50 iterations in 0.00 seconds)\n",
      "Iteration 2051: error is 1.141821 (50 iterations in 0.00 seconds)\n",
      "Iteration 2101: error is 1.141630 (50 iterations in 0.00 seconds)\n",
      "Iteration 2151: error is 1.140804 (50 iterations in 0.00 seconds)\n",
      "Iteration 2201: error is 1.140403 (50 iterations in 1.00 seconds)\n",
      "Iteration 2251: error is 1.140010 (50 iterations in 0.00 seconds)\n",
      "Iteration 2301: error is 1.139314 (50 iterations in 0.00 seconds)\n",
      "Iteration 2351: error is 1.139211 (50 iterations in 0.00 seconds)\n",
      "Iteration 2401: error is 1.138727 (50 iterations in 0.00 seconds)\n",
      "Iteration 2451: error is 1.138716 (50 iterations in 0.00 seconds)\n",
      "Iteration 2501: error is 1.138524 (50 iterations in 0.00 seconds)\n",
      "Iteration 2551: error is 1.138357 (50 iterations in 0.00 seconds)\n",
      "Iteration 2601: error is 1.138318 (50 iterations in 1.00 seconds)\n",
      "Iteration 2651: error is 1.137844 (50 iterations in 0.00 seconds)\n",
      "Iteration 2701: error is 1.137361 (50 iterations in 0.00 seconds)\n",
      "Iteration 2751: error is 1.137437 (50 iterations in 0.00 seconds)\n",
      "Iteration 2801: error is 1.137113 (50 iterations in 0.00 seconds)\n",
      "Iteration 2851: error is 1.136749 (50 iterations in 0.00 seconds)\n",
      "Iteration 2901: error is 1.136127 (50 iterations in 0.00 seconds)\n",
      "Iteration 2951: error is 1.135739 (50 iterations in 0.00 seconds)\n",
      "Iteration 3001: error is 1.135517 (50 iterations in 1.00 seconds)\n",
      "Iteration 3051: error is 1.135059 (50 iterations in 0.00 seconds)\n",
      "Iteration 3101: error is 1.134977 (50 iterations in 0.00 seconds)\n",
      "Iteration 3151: error is 1.134806 (50 iterations in 0.00 seconds)\n",
      "Iteration 3201: error is 1.134608 (50 iterations in 0.00 seconds)\n",
      "Iteration 3251: error is 1.134539 (50 iterations in 0.00 seconds)\n",
      "Iteration 3301: error is 1.134354 (50 iterations in 0.00 seconds)\n",
      "Iteration 3351: error is 1.134030 (50 iterations in 0.00 seconds)\n",
      "Iteration 3401: error is 1.133670 (50 iterations in 1.00 seconds)\n",
      "Iteration 3451: error is 1.133810 (50 iterations in 0.00 seconds)\n",
      "Iteration 3501: error is 1.133494 (50 iterations in 0.00 seconds)\n",
      "Iteration 3551: error is 1.132648 (50 iterations in 0.00 seconds)\n",
      "Iteration 3601: error is 1.132672 (50 iterations in 0.00 seconds)\n",
      "Iteration 3651: error is 1.132464 (50 iterations in 0.00 seconds)\n",
      "Iteration 3701: error is 1.132275 (50 iterations in 0.00 seconds)\n",
      "Iteration 3751: error is 1.132155 (50 iterations in 1.00 seconds)\n",
      "Iteration 3801: error is 1.132140 (50 iterations in 0.00 seconds)\n",
      "Iteration 3851: error is 1.131792 (50 iterations in 0.00 seconds)\n",
      "Iteration 3901: error is 1.131703 (50 iterations in 0.00 seconds)\n",
      "Iteration 3951: error is 1.131383 (50 iterations in 0.00 seconds)\n",
      "Iteration 4001: error is 1.131218 (50 iterations in 0.00 seconds)\n",
      "Iteration 4051: error is 1.131020 (50 iterations in 0.00 seconds)\n",
      "Iteration 4101: error is 1.130497 (50 iterations in 0.00 seconds)\n",
      "Iteration 4151: error is 1.130636 (50 iterations in 1.00 seconds)\n",
      "Iteration 4201: error is 1.130470 (50 iterations in 0.00 seconds)\n",
      "Iteration 4251: error is 1.129882 (50 iterations in 0.00 seconds)\n",
      "Iteration 4301: error is 1.129742 (50 iterations in 0.00 seconds)\n",
      "Iteration 4351: error is 1.129557 (50 iterations in 0.00 seconds)\n",
      "Iteration 4401: error is 1.129637 (50 iterations in 0.00 seconds)\n",
      "Iteration 4451: error is 1.129544 (50 iterations in 0.00 seconds)\n",
      "Iteration 4501: error is 1.129026 (50 iterations in 0.00 seconds)\n",
      "Iteration 4551: error is 1.128624 (50 iterations in 1.00 seconds)\n",
      "Iteration 4601: error is 1.128135 (50 iterations in 0.00 seconds)\n",
      "Iteration 4651: error is 1.128257 (50 iterations in 0.00 seconds)\n",
      "Iteration 4701: error is 1.128066 (50 iterations in 0.00 seconds)\n",
      "Iteration 4751: error is 1.127393 (50 iterations in 0.00 seconds)\n",
      "Iteration 4801: error is 1.126688 (50 iterations in 0.00 seconds)\n",
      "Iteration 4851: error is 1.126541 (50 iterations in 0.00 seconds)\n",
      "Iteration 4901: error is 1.126230 (50 iterations in 0.00 seconds)\n",
      "Iteration 4951: error is 1.126464 (50 iterations in 1.00 seconds)\n",
      "Iteration 5000: error is 1.126193 (50 iterations in 0.00 seconds)\n",
      "Fitting performed in 13.00 seconds.\n"
     ]
    }
   ],
   "source": [
    "ec_dict_R = {}\n",
    "for prot in ec_numbers:\n",
    "    if prot in protR_embeddings:\n",
    "        ec_dict_R[prot] = protR_embeddings[prot]\n",
    "        \n",
    "size = modelR.embedding_dim\n",
    "embedsR = np.zeros((len(ec_dict_R), size), dtype=np.float32)\n",
    "\n",
    "for i, emb in enumerate(ec_dict_R.values()):\n",
    "    embedsR[i, :] = emb\n",
    "nodemapR = {}\n",
    "for i, m in enumerate(ec_dict_R.keys()):\n",
    "    nodemapR[i] = m\n",
    "    \n",
    "\n",
    "XR = TSNE(n_components=2, verbose=1, n_iter=5000, n_jobs=8).fit_transform(embedsR)"
   ]
  },
  {
   "cell_type": "code",
   "execution_count": 56,
   "id": "10caa844",
   "metadata": {},
   "outputs": [
    {
     "data": {
      "image/png": "[encoded data removed]",
      "text/plain": [
       "<Figure size 1440x1440 with 1 Axes>"
      ]
     },
     "metadata": {
      "needs_background": "light"
     },
     "output_type": "display_data"
    }
   ],
   "source": [
    "classes = {'0': [[], []]}\n",
    "for item in nodemapR.items():\n",
    "    k, v = item\n",
    "    if v in ec_numbers:\n",
    "        ec = ec_numbers[v].split('.')[0]\n",
    "        if ec not in classes:\n",
    "            classes[ec] = [[], []]\n",
    "        classes[ec][0].append(XR[k, 0])\n",
    "        classes[ec][1].append(XR[k, 1])\n",
    "        \n",
    "colors = iter(plt.cm.rainbow(np.linspace(0, 1, len(classes))))\n",
    "fig, ax = plt.subplots(figsize=(20, 20))\n",
    "\n",
    "for ec, items in classes.items():\n",
    "    if ec == '0':\n",
    "        continue\n",
    "    color = next(colors)\n",
    "    ax.scatter(items[0], items[1], color=color, label=ec)\n",
    "\n",
    "ax.legend()\n",
    "ax.grid(True)\n",
    "\n",
    "plt.savefig('data/fig_transR.jpg')\n",
    "\n",
    "plt.show()"
   ]
  },
  {
   "cell_type": "code",
   "execution_count": 9,
   "id": "865d1205",
   "metadata": {},
   "outputs": [
    {
     "name": "stdout",
     "output_type": "stream",
     "text": [
      "INFO: Number of ontology classes: 3610\n"
     ]
    },
    {
     "name": "stderr",
     "output_type": "stream",
     "text": [
      "DEBUG:root:LEN OF TEST TRIPLES: 24080\n",
      "WARNING:pykeen.evaluation.evaluator:The filtered setting was enabled, but there were no `additional_filter_triples`\n",
      "given. This means you probably forgot to pass (at least) the training triples. Try:\n",
      "\n",
      "    additional_filter_triples=[dataset.training.mapped_triples]\n",
      "\n",
      "Or if you want to use the Bordes et al. (2013) approach to filtering, do:\n",
      "\n",
      "    additional_filter_triples=[\n",
      "        dataset.training.mapped_triples,\n",
      "        dataset.validation.mapped_triples,\n",
      "    ]\n",
      "\n"
     ]
    },
    {
     "data": {
      "application/vnd.jupyter.widget-view+json": {
       "model_id": "1ac0a37e5dd14d9c96e15b7dd4e174c2",
       "version_major": 2,
       "version_minor": 0
      },
      "text/plain": [
       "Evaluating on cuda:   0%|          | 0.00/24.1k [00:00<?, ?triple/s]"
      ]
     },
     "metadata": {},
     "output_type": "display_data"
    },
    {
     "name": "stderr",
     "output_type": "stream",
     "text": [
      "INFO:pykeen.evaluation.evaluator:Evaluation took 34.62s seconds\n"
     ]
    }
   ],
   "source": [
    "resultsR = modelR.evaluate()"
   ]
  },
  {
   "cell_type": "code",
   "execution_count": 11,
   "id": "fee6028a",
   "metadata": {},
   "outputs": [
    {
     "data": {
      "text/plain": [
       "{'head': {'pessimistic': {1: 8.305647840531562e-05,\n",
       "   3: 0.016777408637873754,\n",
       "   5: 0.03446843853820598,\n",
       "   10: 0.07379568106312293},\n",
       "  'realistic': {1: 8.305647840531562e-05,\n",
       "   3: 0.016777408637873754,\n",
       "   5: 0.03446843853820598,\n",
       "   10: 0.07379568106312293},\n",
       "  'optimistic': {1: 8.305647840531562e-05,\n",
       "   3: 0.016777408637873754,\n",
       "   5: 0.03446843853820598,\n",
       "   10: 0.07379568106312293}},\n",
       " 'both': {'pessimistic': {1: 6.22923588039867e-05,\n",
       "   3: 0.01665282392026578,\n",
       "   5: 0.034011627906976746,\n",
       "   10: 0.07331810631229235},\n",
       "  'realistic': {1: 6.22923588039867e-05,\n",
       "   3: 0.01665282392026578,\n",
       "   5: 0.034011627906976746,\n",
       "   10: 0.07331810631229235},\n",
       "  'optimistic': {1: 6.22923588039867e-05,\n",
       "   3: 0.01665282392026578,\n",
       "   5: 0.034011627906976746,\n",
       "   10: 0.07331810631229235}},\n",
       " 'tail': {'pessimistic': {1: 4.152823920265781e-05,\n",
       "   3: 0.016528239202657807,\n",
       "   5: 0.03355481727574751,\n",
       "   10: 0.0728405315614618},\n",
       "  'realistic': {1: 4.152823920265781e-05,\n",
       "   3: 0.016528239202657807,\n",
       "   5: 0.03355481727574751,\n",
       "   10: 0.0728405315614618},\n",
       "  'optimistic': {1: 4.152823920265781e-05,\n",
       "   3: 0.016528239202657807,\n",
       "   5: 0.03355481727574751,\n",
       "   10: 0.0728405315614618}}}"
      ]
     },
     "execution_count": 11,
     "metadata": {},
     "output_type": "execute_result"
    }
   ],
   "source": [
    "resultsR.hits_at_k"
   ]
  },
  {
   "cell_type": "code",
   "execution_count": null,
   "id": "24be4a48",
   "metadata": {},
   "outputs": [],
   "source": []
  }
 ],
 "metadata": {
  "kernelspec": {
   "display_name": "mowl",
   "language": "python",
   "name": "mowl"
  },
  "language_info": {
   "codemirror_mode": {
    "name": "ipython",
    "version": 3
   },
   "file_extension": ".py",
   "mimetype": "text/x-python",
   "name": "python",
   "nbconvert_exporter": "python",
   "pygments_lexer": "ipython3",
   "version": "3.9.7"
  }
 },
 "nbformat": 4,
 "nbformat_minor": 5
}
